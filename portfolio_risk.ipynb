{
 "cells": [
  {
   "cell_type": "code",
   "execution_count": 1,
   "id": "70b35434-d72b-47b8-a9b4-17c747eed028",
   "metadata": {},
   "outputs": [],
   "source": [
    "import numpy as np\n",
    "import pandas as pd\n",
    "import seaborn as sns\n",
    "import matplotlib.pyplot as plt\n",
    "%matplotlib inline"
   ]
  },
  {
   "cell_type": "code",
   "execution_count": 2,
   "id": "1793d9c9-bbec-45b7-a124-8cab7001d91a",
   "metadata": {},
   "outputs": [],
   "source": [
    "from pandas_datareader import data,wb\n",
    "from datetime import date as date\n",
    "import datetime as dt"
   ]
  },
  {
   "cell_type": "code",
   "execution_count": 3,
   "id": "623c2d2b-1fff-40f5-9a7f-4bf10468775c",
   "metadata": {},
   "outputs": [],
   "source": [
    "import yfinance as yf\n",
    "yf.pdr_override()"
   ]
  },
  {
   "cell_type": "code",
   "execution_count": 4,
   "id": "3a93d34c-7d12-4e92-84f9-6bcba395d5a2",
   "metadata": {},
   "outputs": [],
   "source": [
    "start = dt.datetime(2000,1,1)\n",
    "end = dt.datetime(2023,12,31)\n",
    "today = date.today()"
   ]
  },
  {
   "cell_type": "code",
   "execution_count": 5,
   "id": "a7973841-93b3-4b85-acd0-8d715c835771",
   "metadata": {},
   "outputs": [],
   "source": [
    "# Add your stock tickers\n",
    "\n",
    "tickers = ['NVDA', 'AAPL', 'MSFT', 'BAC', 'TGT']"
   ]
  },
  {
   "cell_type": "code",
   "execution_count": 6,
   "id": "e6e7a428-04fb-447c-8fa5-98c2fe3a0bf0",
   "metadata": {},
   "outputs": [],
   "source": [
    "# Assign weights for corresponding stocks\n",
    "\n",
    "weights = np.array([0.2, 0.2, 0.2, 0.2, 0.2])"
   ]
  },
  {
   "cell_type": "code",
   "execution_count": 7,
   "id": "8d869a45-a6f3-440c-945b-91f25de0ca07",
   "metadata": {},
   "outputs": [
    {
     "name": "stderr",
     "output_type": "stream",
     "text": [
      "[*********************100%%**********************]  1 of 1 completed\n",
      "[*********************100%%**********************]  1 of 1 completed\n",
      "[*********************100%%**********************]  1 of 1 completed\n",
      "[*********************100%%**********************]  1 of 1 completed\n",
      "[*********************100%%**********************]  1 of 1 completed\n"
     ]
    }
   ],
   "source": [
    "sec_data = pd.DataFrame()\n",
    "\n",
    "for t in tickers:\n",
    "    sec_data [t] = data.get_data_yahoo(t, start)['Adj Close']"
   ]
  },
  {
   "cell_type": "code",
   "execution_count": 8,
   "id": "6b607de2-9add-4366-8674-c8698b171ae6",
   "metadata": {},
   "outputs": [],
   "source": [
    "sec_returns = np.log(sec_data / sec_data.shift(1))"
   ]
  },
  {
   "cell_type": "code",
   "execution_count": 9,
   "id": "04975dd6-d0ad-4ba2-9bdf-7e89ee72e0bb",
   "metadata": {},
   "outputs": [
    {
     "data": {
      "text/html": [
       "<div>\n",
       "<style scoped>\n",
       "    .dataframe tbody tr th:only-of-type {\n",
       "        vertical-align: middle;\n",
       "    }\n",
       "\n",
       "    .dataframe tbody tr th {\n",
       "        vertical-align: top;\n",
       "    }\n",
       "\n",
       "    .dataframe thead th {\n",
       "        text-align: right;\n",
       "    }\n",
       "</style>\n",
       "<table border=\"1\" class=\"dataframe\">\n",
       "  <thead>\n",
       "    <tr style=\"text-align: right;\">\n",
       "      <th></th>\n",
       "      <th>NVDA</th>\n",
       "      <th>AAPL</th>\n",
       "      <th>MSFT</th>\n",
       "      <th>BAC</th>\n",
       "      <th>TGT</th>\n",
       "    </tr>\n",
       "    <tr>\n",
       "      <th>Date</th>\n",
       "      <th></th>\n",
       "      <th></th>\n",
       "      <th></th>\n",
       "      <th></th>\n",
       "      <th></th>\n",
       "    </tr>\n",
       "  </thead>\n",
       "  <tbody>\n",
       "    <tr>\n",
       "      <th>2024-03-26</th>\n",
       "      <td>925.609985</td>\n",
       "      <td>169.710007</td>\n",
       "      <td>421.649994</td>\n",
       "      <td>37.090000</td>\n",
       "      <td>172.639999</td>\n",
       "    </tr>\n",
       "    <tr>\n",
       "      <th>2024-03-27</th>\n",
       "      <td>902.500000</td>\n",
       "      <td>173.309998</td>\n",
       "      <td>421.429993</td>\n",
       "      <td>37.810001</td>\n",
       "      <td>174.669998</td>\n",
       "    </tr>\n",
       "    <tr>\n",
       "      <th>2024-03-28</th>\n",
       "      <td>903.559998</td>\n",
       "      <td>171.479996</td>\n",
       "      <td>420.720001</td>\n",
       "      <td>37.919998</td>\n",
       "      <td>177.210007</td>\n",
       "    </tr>\n",
       "  </tbody>\n",
       "</table>\n",
       "</div>"
      ],
      "text/plain": [
       "                  NVDA        AAPL        MSFT        BAC         TGT\n",
       "Date                                                                 \n",
       "2024-03-26  925.609985  169.710007  421.649994  37.090000  172.639999\n",
       "2024-03-27  902.500000  173.309998  421.429993  37.810001  174.669998\n",
       "2024-03-28  903.559998  171.479996  420.720001  37.919998  177.210007"
      ]
     },
     "execution_count": 9,
     "metadata": {},
     "output_type": "execute_result"
    }
   ],
   "source": [
    "sec_data.tail(3)"
   ]
  },
  {
   "cell_type": "code",
   "execution_count": 10,
   "id": "bf4f4f54-9762-4060-ba72-7837ce2f9f68",
   "metadata": {},
   "outputs": [
    {
     "name": "stdout",
     "output_type": "stream",
     "text": [
      "Annual Rate of Returns:  ['NVDA'] 28.37 %\n",
      "Annual Rate of Returns:  ['AAPL'] 21.78 %\n",
      "Annual Rate of Returns:  ['MSFT'] 10.07 %\n",
      "Annual Rate of Returns:  ['BAC'] 4.41 %\n",
      "Annual Rate of Returns:  ['TGT'] 8.43 %\n"
     ]
    }
   ],
   "source": [
    "for r in tickers:\n",
    "    print ('Annual Rate of Returns: ', [r], round(sec_returns[r].mean() *250,4)*100, '%')"
   ]
  },
  {
   "cell_type": "code",
   "execution_count": 11,
   "id": "a3da35d8-f050-4231-bc58-7e124064e2e9",
   "metadata": {},
   "outputs": [
    {
     "name": "stdout",
     "output_type": "stream",
     "text": [
      "Variance of Returns:  ['NVDA'] 0.1399 %\n",
      "Variance of Returns:  ['AAPL'] 0.0651 %\n",
      "Variance of Returns:  ['MSFT'] 0.0368 %\n",
      "Variance of Returns:  ['BAC'] 0.0774 %\n",
      "Variance of Returns:  ['TGT'] 0.0429 %\n"
     ]
    }
   ],
   "source": [
    "for v in tickers:\n",
    "    print ('Variance of Returns: ', [v], round(sec_returns[v].var(),6)*100, '%')"
   ]
  },
  {
   "cell_type": "code",
   "execution_count": 12,
   "id": "a014f924-881b-41f3-bd26-c9116e08365f",
   "metadata": {},
   "outputs": [
    {
     "name": "stdout",
     "output_type": "stream",
     "text": [
      "Annualized Volatility:  ['NVDA'] 59.099999999999994 %\n",
      "Annualized Volatility:  ['AAPL'] 40.300000000000004 %\n",
      "Annualized Volatility:  ['MSFT'] 30.3 %\n",
      "Annualized Volatility:  ['BAC'] 44.0 %\n",
      "Annualized Volatility:  ['TGT'] 32.7 %\n"
     ]
    }
   ],
   "source": [
    "for d in tickers:\n",
    "    print ('Annualized Volatility: ', [d], round(sec_returns[d].std()*250**(0.5),3)*100, '%')"
   ]
  },
  {
   "cell_type": "code",
   "execution_count": 13,
   "id": "5989ef6c-2987-4a91-a311-07e28f947f5e",
   "metadata": {},
   "outputs": [
    {
     "data": {
      "text/html": [
       "<div>\n",
       "<style scoped>\n",
       "    .dataframe tbody tr th:only-of-type {\n",
       "        vertical-align: middle;\n",
       "    }\n",
       "\n",
       "    .dataframe tbody tr th {\n",
       "        vertical-align: top;\n",
       "    }\n",
       "\n",
       "    .dataframe thead th {\n",
       "        text-align: right;\n",
       "    }\n",
       "</style>\n",
       "<table border=\"1\" class=\"dataframe\">\n",
       "  <thead>\n",
       "    <tr style=\"text-align: right;\">\n",
       "      <th></th>\n",
       "      <th>NVDA</th>\n",
       "      <th>AAPL</th>\n",
       "      <th>MSFT</th>\n",
       "      <th>BAC</th>\n",
       "      <th>TGT</th>\n",
       "    </tr>\n",
       "  </thead>\n",
       "  <tbody>\n",
       "    <tr>\n",
       "      <th>NVDA</th>\n",
       "      <td>0.349856</td>\n",
       "      <td>0.098737</td>\n",
       "      <td>0.086937</td>\n",
       "      <td>0.072042</td>\n",
       "      <td>0.051364</td>\n",
       "    </tr>\n",
       "    <tr>\n",
       "      <th>AAPL</th>\n",
       "      <td>0.098737</td>\n",
       "      <td>0.162767</td>\n",
       "      <td>0.057047</td>\n",
       "      <td>0.054213</td>\n",
       "      <td>0.036626</td>\n",
       "    </tr>\n",
       "    <tr>\n",
       "      <th>MSFT</th>\n",
       "      <td>0.086937</td>\n",
       "      <td>0.057047</td>\n",
       "      <td>0.092091</td>\n",
       "      <td>0.049659</td>\n",
       "      <td>0.034657</td>\n",
       "    </tr>\n",
       "    <tr>\n",
       "      <th>BAC</th>\n",
       "      <td>0.072042</td>\n",
       "      <td>0.054213</td>\n",
       "      <td>0.049659</td>\n",
       "      <td>0.193422</td>\n",
       "      <td>0.053137</td>\n",
       "    </tr>\n",
       "    <tr>\n",
       "      <th>TGT</th>\n",
       "      <td>0.051364</td>\n",
       "      <td>0.036626</td>\n",
       "      <td>0.034657</td>\n",
       "      <td>0.053137</td>\n",
       "      <td>0.107244</td>\n",
       "    </tr>\n",
       "  </tbody>\n",
       "</table>\n",
       "</div>"
      ],
      "text/plain": [
       "          NVDA      AAPL      MSFT       BAC       TGT\n",
       "NVDA  0.349856  0.098737  0.086937  0.072042  0.051364\n",
       "AAPL  0.098737  0.162767  0.057047  0.054213  0.036626\n",
       "MSFT  0.086937  0.057047  0.092091  0.049659  0.034657\n",
       "BAC   0.072042  0.054213  0.049659  0.193422  0.053137\n",
       "TGT   0.051364  0.036626  0.034657  0.053137  0.107244"
      ]
     },
     "execution_count": 13,
     "metadata": {},
     "output_type": "execute_result"
    }
   ],
   "source": [
    "cov_matrix = sec_returns.cov()*250\n",
    "cov_matrix"
   ]
  },
  {
   "cell_type": "code",
   "execution_count": 14,
   "id": "afe1e593-6c49-4c20-8a07-d406b9083575",
   "metadata": {},
   "outputs": [
    {
     "data": {
      "text/html": [
       "<div>\n",
       "<style scoped>\n",
       "    .dataframe tbody tr th:only-of-type {\n",
       "        vertical-align: middle;\n",
       "    }\n",
       "\n",
       "    .dataframe tbody tr th {\n",
       "        vertical-align: top;\n",
       "    }\n",
       "\n",
       "    .dataframe thead th {\n",
       "        text-align: right;\n",
       "    }\n",
       "</style>\n",
       "<table border=\"1\" class=\"dataframe\">\n",
       "  <thead>\n",
       "    <tr style=\"text-align: right;\">\n",
       "      <th></th>\n",
       "      <th>NVDA</th>\n",
       "      <th>AAPL</th>\n",
       "      <th>MSFT</th>\n",
       "      <th>BAC</th>\n",
       "      <th>TGT</th>\n",
       "    </tr>\n",
       "  </thead>\n",
       "  <tbody>\n",
       "    <tr>\n",
       "      <th>NVDA</th>\n",
       "      <td>1.000000</td>\n",
       "      <td>0.413763</td>\n",
       "      <td>0.484339</td>\n",
       "      <td>0.276943</td>\n",
       "      <td>0.265175</td>\n",
       "    </tr>\n",
       "    <tr>\n",
       "      <th>AAPL</th>\n",
       "      <td>0.413763</td>\n",
       "      <td>1.000000</td>\n",
       "      <td>0.465948</td>\n",
       "      <td>0.305537</td>\n",
       "      <td>0.277221</td>\n",
       "    </tr>\n",
       "    <tr>\n",
       "      <th>MSFT</th>\n",
       "      <td>0.484339</td>\n",
       "      <td>0.465948</td>\n",
       "      <td>1.000000</td>\n",
       "      <td>0.372083</td>\n",
       "      <td>0.348736</td>\n",
       "    </tr>\n",
       "    <tr>\n",
       "      <th>BAC</th>\n",
       "      <td>0.276943</td>\n",
       "      <td>0.305537</td>\n",
       "      <td>0.372083</td>\n",
       "      <td>1.000000</td>\n",
       "      <td>0.368945</td>\n",
       "    </tr>\n",
       "    <tr>\n",
       "      <th>TGT</th>\n",
       "      <td>0.265175</td>\n",
       "      <td>0.277221</td>\n",
       "      <td>0.348736</td>\n",
       "      <td>0.368945</td>\n",
       "      <td>1.000000</td>\n",
       "    </tr>\n",
       "  </tbody>\n",
       "</table>\n",
       "</div>"
      ],
      "text/plain": [
       "          NVDA      AAPL      MSFT       BAC       TGT\n",
       "NVDA  1.000000  0.413763  0.484339  0.276943  0.265175\n",
       "AAPL  0.413763  1.000000  0.465948  0.305537  0.277221\n",
       "MSFT  0.484339  0.465948  1.000000  0.372083  0.348736\n",
       "BAC   0.276943  0.305537  0.372083  1.000000  0.368945\n",
       "TGT   0.265175  0.277221  0.348736  0.368945  1.000000"
      ]
     },
     "execution_count": 14,
     "metadata": {},
     "output_type": "execute_result"
    }
   ],
   "source": [
    "corr_matrix = sec_returns.corr()\n",
    "corr_matrix"
   ]
  },
  {
   "cell_type": "code",
   "execution_count": 15,
   "id": "b805ba67-80e0-4588-9874-7451e66b32ac",
   "metadata": {},
   "outputs": [
    {
     "data": {
      "text/plain": [
       "<Axes: >"
      ]
     },
     "execution_count": 15,
     "metadata": {},
     "output_type": "execute_result"
    },
    {
     "data": {
      "image/png": "[encoded data removed]",
      "text/plain": [
       "<Figure size 640x480 with 2 Axes>"
      ]
     },
     "metadata": {},
     "output_type": "display_data"
    }
   ],
   "source": [
    "sns.heatmap(corr_matrix, cmap = 'viridis')"
   ]
  },
  {
   "cell_type": "code",
   "execution_count": 16,
   "id": "5701e2ca-f7b5-458c-abfe-4f4195ee6f9c",
   "metadata": {},
   "outputs": [
    {
     "data": {
      "text/plain": [
       "<Axes: xlabel='Date'>"
      ]
     },
     "execution_count": 16,
     "metadata": {},
     "output_type": "execute_result"
    },
    {
     "data": {
      "image/png": "[encoded data removed]",
      "text/plain": [
       "<Figure size 1000x500 with 1 Axes>"
      ]
     },
     "metadata": {},
     "output_type": "display_data"
    }
   ],
   "source": [
    "(sec_data/sec_data.iloc[0]*100).plot(figsize=(10,5))"
   ]
  },
  {
   "cell_type": "code",
   "execution_count": 17,
   "id": "8e4da9aa-25af-4cd0-933d-26122d398fcd",
   "metadata": {},
   "outputs": [
    {
     "name": "stdout",
     "output_type": "stream",
     "text": [
      "Portfolio Variance (total risk):  8.38 %\n"
     ]
    }
   ],
   "source": [
    "pfolio_var = np.dot(weights.T, np.dot(sec_returns.cov() * 250, weights))\n",
    "print ('Portfolio Variance (total risk): ', round(pfolio_var*100,2), '%')"
   ]
  },
  {
   "cell_type": "code",
   "execution_count": 18,
   "id": "77767ca2-6247-4884-a1a5-92455d848e2f",
   "metadata": {},
   "outputs": [
    {
     "name": "stdout",
     "output_type": "stream",
     "text": [
      "Portfolio Volatility(standard deviation/uncertainty):  28.94 %\n"
     ]
    }
   ],
   "source": [
    "pfolio_volt = (np.dot(weights.T, np.dot(sec_returns.cov() * 250, weights)))**0.5\n",
    "print ('Portfolio Volatility(standard deviation/uncertainty): ', round(pfolio_volt*100,2), '%')"
   ]
  },
  {
   "cell_type": "code",
   "execution_count": 19,
   "id": "c7386f35-43d8-4b60-943c-6397bb4fb5f1",
   "metadata": {},
   "outputs": [
    {
     "data": {
      "text/plain": [
       "NVDA    0.349856\n",
       "AAPL    0.162767\n",
       "MSFT    0.092091\n",
       "BAC     0.193422\n",
       "TGT     0.107244\n",
       "dtype: float64"
      ]
     },
     "execution_count": 19,
     "metadata": {},
     "output_type": "execute_result"
    }
   ],
   "source": [
    "sec_var_annual = pd.DataFrame()\n",
    "for x in tickers:\n",
    "    sec_var_annual = sec_returns.var()*250\n",
    "\n",
    "sec_var_annual"
   ]
  },
  {
   "cell_type": "code",
   "execution_count": 20,
   "id": "5b74785a-0573-4c49-86f4-1a3316c838f4",
   "metadata": {},
   "outputs": [
    {
     "name": "stdout",
     "output_type": "stream",
     "text": [
      "Diversifiable Risk:  4.755 %\n"
     ]
    }
   ],
   "source": [
    "# Diversifibale Risk\n",
    "\n",
    "d_risk = pfolio_var - (((weights[0]**2)* sec_var_annual.iloc[0])+\n",
    "                       ((weights[1]**2)* sec_var_annual.iloc[1])+\n",
    "                       ((weights[2]**2)* sec_var_annual.iloc[2])+\n",
    "                       ((weights[3]**2)* sec_var_annual.iloc[3])+\n",
    "                       ((weights[4]**2)* sec_var_annual.iloc[4]))\n",
    "print ('Diversifiable Risk: ', str(round(d_risk*100, 3)), '%')"
   ]
  },
  {
   "cell_type": "code",
   "execution_count": 21,
   "id": "a80ecd99-ac29-4d1d-8318-ebd7faad6ac6",
   "metadata": {},
   "outputs": [
    {
     "name": "stdout",
     "output_type": "stream",
     "text": [
      "Non-Diversifiable Risk:  3.622 %\n"
     ]
    }
   ],
   "source": [
    "# Non-Diversifiable Risk\n",
    "\n",
    "n_d_risk = pfolio_var - d_risk\n",
    "\n",
    "print ('Non-Diversifiable Risk: ', str(round(n_d_risk * 100, 3)), '%')"
   ]
  },
  {
   "cell_type": "code",
   "execution_count": null,
   "id": "3e1867dd-74ac-4f50-8ff5-d1559ff2f31d",
   "metadata": {},
   "outputs": [],
   "source": []
  }
 ],
 "metadata": {
  "kernelspec": {
   "display_name": "Python 3 (ipykernel)",
   "language": "python",
   "name": "python3"
  },
  "language_info": {
   "codemirror_mode": {
    "name": "ipython",
    "version": 3
   },
   "file_extension": ".py",
   "mimetype": "text/x-python",
   "name": "python",
   "nbconvert_exporter": "python",
   "pygments_lexer": "ipython3",
   "version": "3.11.5"
  }
 },
 "nbformat": 4,
 "nbformat_minor": 5
}
