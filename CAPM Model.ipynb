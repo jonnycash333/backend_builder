{
 "cells": [
  {
   "cell_type": "code",
   "execution_count": 1,
   "id": "909dabf6-f7c7-451b-92ba-46f944b22c2c",
   "metadata": {},
   "outputs": [],
   "source": [
    "import numpy as np\n",
    "import pandas as pd\n",
    "import seaborn as sns\n",
    "import matplotlib.pyplot as plt\n",
    "%matplotlib inline\n",
    "\n",
    "from pandas_datareader import data, wb\n",
    "from datetime import date as date\n",
    "import datetime as dt\n",
    "\n",
    "import yfinance as yf\n",
    "yf.pdr_override()\n",
    "\n",
    "start = dt.datetime(2008,1,1)\n",
    "end = dt.datetime(2023,12,31)\n",
    "today = date.today()"
   ]
  },
  {
   "cell_type": "code",
   "execution_count": 2,
   "id": "84e1e2b7-f87b-4a88-bb8c-de563fcc9558",
   "metadata": {},
   "outputs": [],
   "source": [
    "# 10-yr treasury yield \n",
    "\n",
    "risk_free_rate = 0.042"
   ]
  },
  {
   "cell_type": "code",
   "execution_count": 3,
   "id": "2efd7d65-e2e5-47c5-90bd-d4d16c1d41dd",
   "metadata": {},
   "outputs": [],
   "source": [
    "tickers = ['NVDA', 'SPY']"
   ]
  },
  {
   "cell_type": "code",
   "execution_count": 4,
   "id": "a2a010d8-110e-4b85-a493-e872c1853d89",
   "metadata": {},
   "outputs": [
    {
     "name": "stderr",
     "output_type": "stream",
     "text": [
      "[*********************100%%**********************]  1 of 1 completed\n",
      "[*********************100%%**********************]  1 of 1 completed\n"
     ]
    },
    {
     "data": {
      "text/html": [
       "<div>\n",
       "<style scoped>\n",
       "    .dataframe tbody tr th:only-of-type {\n",
       "        vertical-align: middle;\n",
       "    }\n",
       "\n",
       "    .dataframe tbody tr th {\n",
       "        vertical-align: top;\n",
       "    }\n",
       "\n",
       "    .dataframe thead th {\n",
       "        text-align: right;\n",
       "    }\n",
       "</style>\n",
       "<table border=\"1\" class=\"dataframe\">\n",
       "  <thead>\n",
       "    <tr style=\"text-align: right;\">\n",
       "      <th></th>\n",
       "      <th>NVDA</th>\n",
       "      <th>SPY</th>\n",
       "    </tr>\n",
       "    <tr>\n",
       "      <th>Date</th>\n",
       "      <th></th>\n",
       "      <th></th>\n",
       "    </tr>\n",
       "  </thead>\n",
       "  <tbody>\n",
       "    <tr>\n",
       "      <th>2023-12-22</th>\n",
       "      <td>488.277069</td>\n",
       "      <td>472.182892</td>\n",
       "    </tr>\n",
       "    <tr>\n",
       "      <th>2023-12-26</th>\n",
       "      <td>492.766907</td>\n",
       "      <td>474.176697</td>\n",
       "    </tr>\n",
       "    <tr>\n",
       "      <th>2023-12-27</th>\n",
       "      <td>494.146820</td>\n",
       "      <td>475.034058</td>\n",
       "    </tr>\n",
       "    <tr>\n",
       "      <th>2023-12-28</th>\n",
       "      <td>495.196777</td>\n",
       "      <td>475.213501</td>\n",
       "    </tr>\n",
       "    <tr>\n",
       "      <th>2023-12-29</th>\n",
       "      <td>495.196777</td>\n",
       "      <td>473.837769</td>\n",
       "    </tr>\n",
       "  </tbody>\n",
       "</table>\n",
       "</div>"
      ],
      "text/plain": [
       "                  NVDA         SPY\n",
       "Date                              \n",
       "2023-12-22  488.277069  472.182892\n",
       "2023-12-26  492.766907  474.176697\n",
       "2023-12-27  494.146820  475.034058\n",
       "2023-12-28  495.196777  475.213501\n",
       "2023-12-29  495.196777  473.837769"
      ]
     },
     "execution_count": 4,
     "metadata": {},
     "output_type": "execute_result"
    }
   ],
   "source": [
    "sec_data = pd.DataFrame()\n",
    "for t in tickers:\n",
    "    sec_data[t] = data.get_data_yahoo(t, start, end)['Adj Close']\n",
    "\n",
    "sec_data.tail()"
   ]
  },
  {
   "cell_type": "code",
   "execution_count": 5,
   "id": "15bcac73-3bb1-479b-b98c-bd3df1ff9f18",
   "metadata": {},
   "outputs": [],
   "source": [
    "log_returns = np.log(sec_data/sec_data.shift(1))"
   ]
  },
  {
   "cell_type": "code",
   "execution_count": 6,
   "id": "e5eff907-9a13-4de4-87b1-7c9a480df6d9",
   "metadata": {},
   "outputs": [
    {
     "data": {
      "text/plain": [
       "NVDA    0.259610\n",
       "SPY     0.092976\n",
       "dtype: float64"
      ]
     },
     "execution_count": 6,
     "metadata": {},
     "output_type": "execute_result"
    }
   ],
   "source": [
    "log_returns.mean()*250"
   ]
  },
  {
   "cell_type": "code",
   "execution_count": 7,
   "id": "fa6ce28a-4ba0-43bb-9546-0f1dbd222405",
   "metadata": {},
   "outputs": [
    {
     "data": {
      "text/plain": [
       "0.09297628093668565"
      ]
     },
     "execution_count": 7,
     "metadata": {},
     "output_type": "execute_result"
    }
   ],
   "source": [
    "market_return_annualized = log_returns['SPY'].mean()*250\n",
    "market_return_annualized"
   ]
  },
  {
   "cell_type": "code",
   "execution_count": 8,
   "id": "7850f5c4-9e26-4858-93b7-1a30b81912f4",
   "metadata": {},
   "outputs": [
    {
     "data": {
      "text/plain": [
       "0.05097628093668565"
      ]
     },
     "execution_count": 8,
     "metadata": {},
     "output_type": "execute_result"
    }
   ],
   "source": [
    "risk_premium = market_return_annualized - risk_free_rate\n",
    "risk_premium"
   ]
  },
  {
   "cell_type": "code",
   "execution_count": 9,
   "id": "f0b1aad7-bcc0-43f5-a988-8958c4a873ee",
   "metadata": {},
   "outputs": [
    {
     "data": {
      "text/html": [
       "<div>\n",
       "<style scoped>\n",
       "    .dataframe tbody tr th:only-of-type {\n",
       "        vertical-align: middle;\n",
       "    }\n",
       "\n",
       "    .dataframe tbody tr th {\n",
       "        vertical-align: top;\n",
       "    }\n",
       "\n",
       "    .dataframe thead th {\n",
       "        text-align: right;\n",
       "    }\n",
       "</style>\n",
       "<table border=\"1\" class=\"dataframe\">\n",
       "  <thead>\n",
       "    <tr style=\"text-align: right;\">\n",
       "      <th></th>\n",
       "      <th>NVDA</th>\n",
       "      <th>SPY</th>\n",
       "    </tr>\n",
       "  </thead>\n",
       "  <tbody>\n",
       "    <tr>\n",
       "      <th>NVDA</th>\n",
       "      <td>0.240757</td>\n",
       "      <td>0.062222</td>\n",
       "    </tr>\n",
       "    <tr>\n",
       "      <th>SPY</th>\n",
       "      <td>0.062222</td>\n",
       "      <td>0.041202</td>\n",
       "    </tr>\n",
       "  </tbody>\n",
       "</table>\n",
       "</div>"
      ],
      "text/plain": [
       "          NVDA       SPY\n",
       "NVDA  0.240757  0.062222\n",
       "SPY   0.062222  0.041202"
      ]
     },
     "execution_count": 9,
     "metadata": {},
     "output_type": "execute_result"
    }
   ],
   "source": [
    "# Annualized Covarient \n",
    "\n",
    "cov = log_returns.cov()*250\n",
    "cov"
   ]
  },
  {
   "cell_type": "code",
   "execution_count": 10,
   "id": "a9408d0a-af5b-4aeb-8a56-62298c943043",
   "metadata": {},
   "outputs": [
    {
     "data": {
      "text/plain": [
       "0.06222235463750141"
      ]
     },
     "execution_count": 10,
     "metadata": {},
     "output_type": "execute_result"
    }
   ],
   "source": [
    "cov_with_market = cov.iloc[0,1]\n",
    "cov_with_market"
   ]
  },
  {
   "cell_type": "code",
   "execution_count": 11,
   "id": "666b8085-5b76-4a01-b93e-adc04a41b4a5",
   "metadata": {},
   "outputs": [
    {
     "data": {
      "text/plain": [
       "0.04120164168840621"
      ]
     },
     "execution_count": 11,
     "metadata": {},
     "output_type": "execute_result"
    }
   ],
   "source": [
    "market_var = log_returns['SPY'].var()*250\n",
    "market_var"
   ]
  },
  {
   "cell_type": "code",
   "execution_count": 12,
   "id": "02cdb43f-855f-4692-a7f3-5560135cca9c",
   "metadata": {},
   "outputs": [
    {
     "data": {
      "text/plain": [
       "1.5101911498592118"
      ]
     },
     "execution_count": 12,
     "metadata": {},
     "output_type": "execute_result"
    }
   ],
   "source": [
    "# Beta\n",
    "\n",
    "stock_beta = cov_with_market / market_var\n",
    "stock_beta"
   ]
  },
  {
   "cell_type": "code",
   "execution_count": 13,
   "id": "4980f434-a9be-48ce-86fc-e6ab7ecd4692",
   "metadata": {},
   "outputs": [
    {
     "data": {
      "text/plain": [
       "0.11898392832331953"
      ]
     },
     "execution_count": 13,
     "metadata": {},
     "output_type": "execute_result"
    }
   ],
   "source": [
    "# CAPM Expected Return\n",
    "\n",
    "stock_er = risk_free_rate + (stock_beta * risk_premium)\n",
    "stock_er"
   ]
  },
  {
   "cell_type": "code",
   "execution_count": 14,
   "id": "b8b3079a-6cf8-445d-9014-23f690aaebb0",
   "metadata": {},
   "outputs": [
    {
     "data": {
      "text/plain": [
       "0.25960985371452233"
      ]
     },
     "execution_count": 14,
     "metadata": {},
     "output_type": "execute_result"
    }
   ],
   "source": [
    "# Stock Annualized Return\n",
    "\n",
    "log_returns.iloc[0:,0].mean()*250"
   ]
  },
  {
   "cell_type": "code",
   "execution_count": 15,
   "id": "754ce496-72c3-47a9-bfb5-26258847588b",
   "metadata": {},
   "outputs": [
    {
     "data": {
      "text/plain": [
       "0.15689558562177067"
      ]
     },
     "execution_count": 15,
     "metadata": {},
     "output_type": "execute_result"
    }
   ],
   "source": [
    "# Sharpe Ratio\n",
    "\n",
    "excess_return = stock_er - risk_free_rate\n",
    "\n",
    "stock_stdev = log_returns.iloc[0:,0].std() * (250**0.5)\n",
    "\n",
    "sharpe = excess_return / stock_stdev\n",
    "sharpe"
   ]
  },
  {
   "cell_type": "code",
   "execution_count": null,
   "id": "4bf02dc1-48e9-40f8-8d63-c2e3af0f26ac",
   "metadata": {},
   "outputs": [],
   "source": []
  },
  {
   "cell_type": "code",
   "execution_count": null,
   "id": "dafd8e46-6e47-470b-b2c6-103bbefe0dd0",
   "metadata": {},
   "outputs": [],
   "source": []
  }
 ],
 "metadata": {
  "kernelspec": {
   "display_name": "Python 3 (ipykernel)",
   "language": "python",
   "name": "python3"
  },
  "language_info": {
   "codemirror_mode": {
    "name": "ipython",
    "version": 3
   },
   "file_extension": ".py",
   "mimetype": "text/x-python",
   "name": "python",
   "nbconvert_exporter": "python",
   "pygments_lexer": "ipython3",
   "version": "3.11.5"
  }
 },
 "nbformat": 4,
 "nbformat_minor": 5
}
